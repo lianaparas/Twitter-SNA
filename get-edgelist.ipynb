{
 "cells": [
  {
   "cell_type": "code",
   "execution_count": 1,
   "source": [
    "import os\n",
    "os.getcwd()"
   ],
   "outputs": [
    {
     "output_type": "execute_result",
     "data": {
      "text/plain": [
       "'/Users/macbookpro/Documents/171001-181001-no-qt/clean analysis'"
      ]
     },
     "metadata": {},
     "execution_count": 1
    }
   ],
   "metadata": {}
  },
  {
   "cell_type": "code",
   "execution_count": 2,
   "source": [
    "import sys\n",
    "import json\n",
    "import re\n",
    "import numpy as np\n",
    "import pandas as pd\n",
    "\n",
    "tweetfile = 'cleaned-dataset.csv'\n",
    "\n",
    "all_tweets = pd.read_csv(tweetfile)"
   ],
   "outputs": [],
   "metadata": {}
  },
  {
   "cell_type": "code",
   "execution_count": 3,
   "source": [
    "all_tweets.count()"
   ],
   "outputs": [
    {
     "output_type": "execute_result",
     "data": {
      "text/plain": [
       "created_at                 94266\n",
       "user_screen_name           94266\n",
       "text                       94263\n",
       "favorite_count             94266\n",
       "retweet_count              94266\n",
       "in_reply_to_screen_name    34799\n",
       "user_followers_count       94266\n",
       "user_friends_count         94266\n",
       "place                      91717\n",
       "dtype: int64"
      ]
     },
     "metadata": {},
     "execution_count": 3
    }
   ],
   "metadata": {}
  },
  {
   "cell_type": "code",
   "execution_count": 4,
   "source": [
    "all_tweets.head(5)"
   ],
   "outputs": [
    {
     "output_type": "execute_result",
     "data": {
      "text/plain": [
       "                       created_at user_screen_name  \\\n",
       "0  Tue Dec 12 00:09:18 +0000 2017     CodyMcDowall   \n",
       "1  Tue Sep 11 22:41:30 +0000 2018  mebeandreaaolco   \n",
       "2  Tue Nov 21 03:04:45 +0000 2017      hanjangho76   \n",
       "3  Sat Jan 06 21:17:16 +0000 2018    AlixStroiazzo   \n",
       "4  Tue Nov 21 02:51:58 +0000 2017      hanjangho76   \n",
       "\n",
       "                                                text  favorite_count  \\\n",
       "0  im dispute climate change weve gotta stop clai...               3   \n",
       "1  many american kill climatechangeisreal remembe...               1   \n",
       "2  there nothing need fear stand together right s...               0   \n",
       "3  look new crypto currency going revolutionize p...               0   \n",
       "4  beyond blessed find right side history rest hi...               0   \n",
       "\n",
       "   retweet_count in_reply_to_screen_name  user_followers_count  \\\n",
       "0              0                     NaN                   176   \n",
       "1              0         realDonaldTrump                  2882   \n",
       "2              0                     NaN                  3864   \n",
       "3              0                     NaN                    44   \n",
       "4              0                     NaN                  3864   \n",
       "\n",
       "   user_friends_count                 place  \n",
       "0                 113       Orange Park, FL  \n",
       "1                4959  Twentynine Palms, CA  \n",
       "2                5001          San Jose, CA  \n",
       "3                  26         Manhattan, NY  \n",
       "4                5001          San Jose, CA  "
      ],
      "text/html": [
       "<div>\n",
       "<style scoped>\n",
       "    .dataframe tbody tr th:only-of-type {\n",
       "        vertical-align: middle;\n",
       "    }\n",
       "\n",
       "    .dataframe tbody tr th {\n",
       "        vertical-align: top;\n",
       "    }\n",
       "\n",
       "    .dataframe thead th {\n",
       "        text-align: right;\n",
       "    }\n",
       "</style>\n",
       "<table border=\"1\" class=\"dataframe\">\n",
       "  <thead>\n",
       "    <tr style=\"text-align: right;\">\n",
       "      <th></th>\n",
       "      <th>created_at</th>\n",
       "      <th>user_screen_name</th>\n",
       "      <th>text</th>\n",
       "      <th>favorite_count</th>\n",
       "      <th>retweet_count</th>\n",
       "      <th>in_reply_to_screen_name</th>\n",
       "      <th>user_followers_count</th>\n",
       "      <th>user_friends_count</th>\n",
       "      <th>place</th>\n",
       "    </tr>\n",
       "  </thead>\n",
       "  <tbody>\n",
       "    <tr>\n",
       "      <td>0</td>\n",
       "      <td>Tue Dec 12 00:09:18 +0000 2017</td>\n",
       "      <td>CodyMcDowall</td>\n",
       "      <td>im dispute climate change weve gotta stop clai...</td>\n",
       "      <td>3</td>\n",
       "      <td>0</td>\n",
       "      <td>NaN</td>\n",
       "      <td>176</td>\n",
       "      <td>113</td>\n",
       "      <td>Orange Park, FL</td>\n",
       "    </tr>\n",
       "    <tr>\n",
       "      <td>1</td>\n",
       "      <td>Tue Sep 11 22:41:30 +0000 2018</td>\n",
       "      <td>mebeandreaaolco</td>\n",
       "      <td>many american kill climatechangeisreal remembe...</td>\n",
       "      <td>1</td>\n",
       "      <td>0</td>\n",
       "      <td>realDonaldTrump</td>\n",
       "      <td>2882</td>\n",
       "      <td>4959</td>\n",
       "      <td>Twentynine Palms, CA</td>\n",
       "    </tr>\n",
       "    <tr>\n",
       "      <td>2</td>\n",
       "      <td>Tue Nov 21 03:04:45 +0000 2017</td>\n",
       "      <td>hanjangho76</td>\n",
       "      <td>there nothing need fear stand together right s...</td>\n",
       "      <td>0</td>\n",
       "      <td>0</td>\n",
       "      <td>NaN</td>\n",
       "      <td>3864</td>\n",
       "      <td>5001</td>\n",
       "      <td>San Jose, CA</td>\n",
       "    </tr>\n",
       "    <tr>\n",
       "      <td>3</td>\n",
       "      <td>Sat Jan 06 21:17:16 +0000 2018</td>\n",
       "      <td>AlixStroiazzo</td>\n",
       "      <td>look new crypto currency going revolutionize p...</td>\n",
       "      <td>0</td>\n",
       "      <td>0</td>\n",
       "      <td>NaN</td>\n",
       "      <td>44</td>\n",
       "      <td>26</td>\n",
       "      <td>Manhattan, NY</td>\n",
       "    </tr>\n",
       "    <tr>\n",
       "      <td>4</td>\n",
       "      <td>Tue Nov 21 02:51:58 +0000 2017</td>\n",
       "      <td>hanjangho76</td>\n",
       "      <td>beyond blessed find right side history rest hi...</td>\n",
       "      <td>0</td>\n",
       "      <td>0</td>\n",
       "      <td>NaN</td>\n",
       "      <td>3864</td>\n",
       "      <td>5001</td>\n",
       "      <td>San Jose, CA</td>\n",
       "    </tr>\n",
       "  </tbody>\n",
       "</table>\n",
       "</div>"
      ]
     },
     "metadata": {},
     "execution_count": 4
    }
   ],
   "metadata": {}
  },
  {
   "cell_type": "code",
   "execution_count": 5,
   "source": [
    "all_tweets.shape"
   ],
   "outputs": [
    {
     "output_type": "execute_result",
     "data": {
      "text/plain": [
       "(94266, 9)"
      ]
     },
     "metadata": {},
     "execution_count": 5
    }
   ],
   "metadata": {}
  },
  {
   "cell_type": "code",
   "execution_count": 6,
   "source": [
    "# Export edges from Replies\n",
    "replies = all_tweets[all_tweets['in_reply_to_screen_name'].notnull()]\n",
    "\n",
    "edges = replies[['user_screen_name', 'in_reply_to_screen_name','created_at']]\n",
    "edges.columns = ['Source', 'Target', 'Weight']"
   ],
   "outputs": [],
   "metadata": {}
  },
  {
   "cell_type": "code",
   "execution_count": 7,
   "source": [
    "strengthLevel = 3  # Network connection strength level: the number of times in total each of the tweeters responded to or mentioned the other.\n",
    "                   # If you have 1 as the level, then all tweeters who mentioned or replied to another at least once will be displayed. But if you have 5, only those who have mentioned or responded to a particular tweeter at least 5 times will be displayed, which means that only the strongest bonds are shown.\n",
    "\n",
    "edges2 = edges.groupby(['Source','Target'])['Weight'].count()\n",
    "edges2 = edges2.reset_index()\n",
    "edges2 = edges2[edges2['Weight'] >= strengthLevel]"
   ],
   "outputs": [],
   "metadata": {}
  },
  {
   "cell_type": "code",
   "execution_count": 8,
   "source": [
    "# Export nodes from the edges and add node attributes for both Sources and Targets.\n",
    "\n",
    "users = all_tweets[['user_screen_name','user_followers_count', 'user_friends_count']]\n",
    "users = users.sort_values(['user_screen_name','user_followers_count'], ascending=[True, False])\n",
    "users = users.drop_duplicates(['user_screen_name'], keep='first') \n",
    "\n",
    "ids = edges2['Source'].append(edges2['Target']).to_frame()\n",
    "ids['Label'] = ids\n",
    "ids.columns = ['user_screen_name', 'Label']\n",
    "ids = ids.drop_duplicates(['user_screen_name'], keep='first') \n",
    "nodes = pd.merge(ids, users, on='user_screen_name', how='left')"
   ],
   "outputs": [],
   "metadata": {}
  },
  {
   "cell_type": "code",
   "execution_count": 10,
   "source": [
    "print(nodes.shape)\n",
    "print(edges.shape)"
   ],
   "outputs": [
    {
     "output_type": "stream",
     "name": "stdout",
     "text": [
      "(36466, 4)\n",
      "(34799, 2)\n"
     ]
    }
   ],
   "metadata": {}
  },
  {
   "cell_type": "code",
   "execution_count": 11,
   "source": [
    "# change column names for Kumu import (Run this when using Kumu)\n",
    "edges2.columns = ['Source','Target','Weight']\n",
    "nodes.columns = ['Id', 'Label', 'user_followers_count', 'user_friends_count']"
   ],
   "outputs": [],
   "metadata": {}
  },
  {
   "cell_type": "code",
   "execution_count": 12,
   "source": [
    "nodes"
   ],
   "outputs": [
    {
     "output_type": "execute_result",
     "data": {
      "text/plain": [
       "                    Id            Label  user_followers_count  \\\n",
       "0      mebeandreaaolco  mebeandreaaolco                2882.0   \n",
       "1            RicVaDude        RicVaDude               44231.0   \n",
       "2         hockendougal     hockendougal                1622.0   \n",
       "3       HeestermanNeil   HeestermanNeil                 144.0   \n",
       "4       JocelynRenee81   JocelynRenee81                  35.0   \n",
       "...                ...              ...                   ...   \n",
       "36461       infpwriter       infpwriter                   NaN   \n",
       "36462      WiFiJanitor      WiFiJanitor                   NaN   \n",
       "36463   Ward_L_Shearer   Ward_L_Shearer                   NaN   \n",
       "36464        melulater        melulater                   NaN   \n",
       "36465        jdcnorden        jdcnorden                   NaN   \n",
       "\n",
       "       user_friends_count  \n",
       "0                  4959.0  \n",
       "1                 44798.0  \n",
       "2                  1531.0  \n",
       "3                   168.0  \n",
       "4                   312.0  \n",
       "...                   ...  \n",
       "36461                 NaN  \n",
       "36462                 NaN  \n",
       "36463                 NaN  \n",
       "36464                 NaN  \n",
       "36465                 NaN  \n",
       "\n",
       "[36466 rows x 4 columns]"
      ],
      "text/html": [
       "<div>\n",
       "<style scoped>\n",
       "    .dataframe tbody tr th:only-of-type {\n",
       "        vertical-align: middle;\n",
       "    }\n",
       "\n",
       "    .dataframe tbody tr th {\n",
       "        vertical-align: top;\n",
       "    }\n",
       "\n",
       "    .dataframe thead th {\n",
       "        text-align: right;\n",
       "    }\n",
       "</style>\n",
       "<table border=\"1\" class=\"dataframe\">\n",
       "  <thead>\n",
       "    <tr style=\"text-align: right;\">\n",
       "      <th></th>\n",
       "      <th>Id</th>\n",
       "      <th>Label</th>\n",
       "      <th>user_followers_count</th>\n",
       "      <th>user_friends_count</th>\n",
       "    </tr>\n",
       "  </thead>\n",
       "  <tbody>\n",
       "    <tr>\n",
       "      <td>0</td>\n",
       "      <td>mebeandreaaolco</td>\n",
       "      <td>mebeandreaaolco</td>\n",
       "      <td>2882.0</td>\n",
       "      <td>4959.0</td>\n",
       "    </tr>\n",
       "    <tr>\n",
       "      <td>1</td>\n",
       "      <td>RicVaDude</td>\n",
       "      <td>RicVaDude</td>\n",
       "      <td>44231.0</td>\n",
       "      <td>44798.0</td>\n",
       "    </tr>\n",
       "    <tr>\n",
       "      <td>2</td>\n",
       "      <td>hockendougal</td>\n",
       "      <td>hockendougal</td>\n",
       "      <td>1622.0</td>\n",
       "      <td>1531.0</td>\n",
       "    </tr>\n",
       "    <tr>\n",
       "      <td>3</td>\n",
       "      <td>HeestermanNeil</td>\n",
       "      <td>HeestermanNeil</td>\n",
       "      <td>144.0</td>\n",
       "      <td>168.0</td>\n",
       "    </tr>\n",
       "    <tr>\n",
       "      <td>4</td>\n",
       "      <td>JocelynRenee81</td>\n",
       "      <td>JocelynRenee81</td>\n",
       "      <td>35.0</td>\n",
       "      <td>312.0</td>\n",
       "    </tr>\n",
       "    <tr>\n",
       "      <td>...</td>\n",
       "      <td>...</td>\n",
       "      <td>...</td>\n",
       "      <td>...</td>\n",
       "      <td>...</td>\n",
       "    </tr>\n",
       "    <tr>\n",
       "      <td>36461</td>\n",
       "      <td>infpwriter</td>\n",
       "      <td>infpwriter</td>\n",
       "      <td>NaN</td>\n",
       "      <td>NaN</td>\n",
       "    </tr>\n",
       "    <tr>\n",
       "      <td>36462</td>\n",
       "      <td>WiFiJanitor</td>\n",
       "      <td>WiFiJanitor</td>\n",
       "      <td>NaN</td>\n",
       "      <td>NaN</td>\n",
       "    </tr>\n",
       "    <tr>\n",
       "      <td>36463</td>\n",
       "      <td>Ward_L_Shearer</td>\n",
       "      <td>Ward_L_Shearer</td>\n",
       "      <td>NaN</td>\n",
       "      <td>NaN</td>\n",
       "    </tr>\n",
       "    <tr>\n",
       "      <td>36464</td>\n",
       "      <td>melulater</td>\n",
       "      <td>melulater</td>\n",
       "      <td>NaN</td>\n",
       "      <td>NaN</td>\n",
       "    </tr>\n",
       "    <tr>\n",
       "      <td>36465</td>\n",
       "      <td>jdcnorden</td>\n",
       "      <td>jdcnorden</td>\n",
       "      <td>NaN</td>\n",
       "      <td>NaN</td>\n",
       "    </tr>\n",
       "  </tbody>\n",
       "</table>\n",
       "<p>36466 rows × 4 columns</p>\n",
       "</div>"
      ]
     },
     "metadata": {},
     "execution_count": 12
    }
   ],
   "metadata": {}
  },
  {
   "cell_type": "code",
   "execution_count": 13,
   "source": [
    "edges2"
   ],
   "outputs": [
    {
     "output_type": "execute_result",
     "data": {
      "text/plain": [
       "                Source           Target\n",
       "1      mebeandreaaolco  realDonaldTrump\n",
       "8            RicVaDude       MrsMalindo\n",
       "10        hockendougal          aepasek\n",
       "11      HeestermanNeil          Pembina\n",
       "17      JocelynRenee81  realDonaldTrump\n",
       "...                ...              ...\n",
       "94253    ShowUpAmerica       SenSanders\n",
       "94257        RJDownard     RealSaavedra\n",
       "94262  StuartinTrosley        jdcnorden\n",
       "94263       EvansNjomo       EvansNjomo\n",
       "94264    NcShaffertwit        wikileaks\n",
       "\n",
       "[34799 rows x 2 columns]"
      ],
      "text/html": [
       "<div>\n",
       "<style scoped>\n",
       "    .dataframe tbody tr th:only-of-type {\n",
       "        vertical-align: middle;\n",
       "    }\n",
       "\n",
       "    .dataframe tbody tr th {\n",
       "        vertical-align: top;\n",
       "    }\n",
       "\n",
       "    .dataframe thead th {\n",
       "        text-align: right;\n",
       "    }\n",
       "</style>\n",
       "<table border=\"1\" class=\"dataframe\">\n",
       "  <thead>\n",
       "    <tr style=\"text-align: right;\">\n",
       "      <th></th>\n",
       "      <th>Source</th>\n",
       "      <th>Target</th>\n",
       "    </tr>\n",
       "  </thead>\n",
       "  <tbody>\n",
       "    <tr>\n",
       "      <td>1</td>\n",
       "      <td>mebeandreaaolco</td>\n",
       "      <td>realDonaldTrump</td>\n",
       "    </tr>\n",
       "    <tr>\n",
       "      <td>8</td>\n",
       "      <td>RicVaDude</td>\n",
       "      <td>MrsMalindo</td>\n",
       "    </tr>\n",
       "    <tr>\n",
       "      <td>10</td>\n",
       "      <td>hockendougal</td>\n",
       "      <td>aepasek</td>\n",
       "    </tr>\n",
       "    <tr>\n",
       "      <td>11</td>\n",
       "      <td>HeestermanNeil</td>\n",
       "      <td>Pembina</td>\n",
       "    </tr>\n",
       "    <tr>\n",
       "      <td>17</td>\n",
       "      <td>JocelynRenee81</td>\n",
       "      <td>realDonaldTrump</td>\n",
       "    </tr>\n",
       "    <tr>\n",
       "      <td>...</td>\n",
       "      <td>...</td>\n",
       "      <td>...</td>\n",
       "    </tr>\n",
       "    <tr>\n",
       "      <td>94253</td>\n",
       "      <td>ShowUpAmerica</td>\n",
       "      <td>SenSanders</td>\n",
       "    </tr>\n",
       "    <tr>\n",
       "      <td>94257</td>\n",
       "      <td>RJDownard</td>\n",
       "      <td>RealSaavedra</td>\n",
       "    </tr>\n",
       "    <tr>\n",
       "      <td>94262</td>\n",
       "      <td>StuartinTrosley</td>\n",
       "      <td>jdcnorden</td>\n",
       "    </tr>\n",
       "    <tr>\n",
       "      <td>94263</td>\n",
       "      <td>EvansNjomo</td>\n",
       "      <td>EvansNjomo</td>\n",
       "    </tr>\n",
       "    <tr>\n",
       "      <td>94264</td>\n",
       "      <td>NcShaffertwit</td>\n",
       "      <td>wikileaks</td>\n",
       "    </tr>\n",
       "  </tbody>\n",
       "</table>\n",
       "<p>34799 rows × 2 columns</p>\n",
       "</div>"
      ]
     },
     "metadata": {},
     "execution_count": 13
    }
   ],
   "metadata": {}
  },
  {
   "cell_type": "code",
   "execution_count": 15,
   "source": [
    "# Export nodes and edges to csv files\n",
    "nodes.to_csv('nodes_replies_tweet6.csv', encoding='utf-8', index=False)\n",
    "edges2.to_csv('edges_replies_tweet6.csv', encoding='utf-8', index=False)"
   ],
   "outputs": [],
   "metadata": {}
  },
  {
   "cell_type": "code",
   "execution_count": null,
   "source": [],
   "outputs": [],
   "metadata": {}
  },
  {
   "cell_type": "code",
   "execution_count": null,
   "source": [],
   "outputs": [],
   "metadata": {}
  }
 ],
 "metadata": {
  "kernelspec": {
   "display_name": "Python 3",
   "language": "python",
   "name": "python3"
  },
  "language_info": {
   "codemirror_mode": {
    "name": "ipython",
    "version": 3
   },
   "file_extension": ".py",
   "mimetype": "text/x-python",
   "name": "python",
   "nbconvert_exporter": "python",
   "pygments_lexer": "ipython3",
   "version": "3.7.4"
  }
 },
 "nbformat": 4,
 "nbformat_minor": 2
}